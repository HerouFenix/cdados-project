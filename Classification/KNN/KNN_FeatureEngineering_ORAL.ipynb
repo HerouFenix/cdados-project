{
 "cells": [
  {
   "cell_type": "code",
   "execution_count": 1,
   "metadata": {},
   "outputs": [],
   "source": [
    "import numpy as np\n",
    "import pandas as pd\n",
    "import matplotlib.pyplot as plt\n",
    "from sklearn.model_selection import train_test_split\n",
    "import sklearn.metrics as metrics\n",
    "from sklearn.neighbors import KNeighborsClassifier\n",
    "import ds_functions as ds"
   ]
  },
  {
   "cell_type": "code",
   "execution_count": null,
   "metadata": {
    "scrolled": false
   },
   "outputs": [
    {
     "name": "stdout",
     "output_type": "stream",
     "text": [
      "\n",
      " ORAL_chi\n"
     ]
    },
    {
     "data": {
      "image/png": "[encoded data removed]",
      "text/plain": [
       "<Figure size 600x450 with 1 Axes>"
      ]
     },
     "metadata": {
      "needs_background": "dark"
     },
     "output_type": "display_data"
    },
    {
     "name": "stdout",
     "output_type": "stream",
     "text": [
      "Best results with 9 neighbors and manhattan\n",
      "An acc of 0.94%\n",
      "\n",
      " ORAL_extraTreeClassifier\n"
     ]
    }
   ],
   "source": [
    "import os\n",
    "\n",
    "directory = '../../datasets/TO_TEST/ORAL/reduced'\n",
    "\n",
    "overall_accs = []\n",
    "datasets = []\n",
    "\n",
    "n_holdouts = 10\n",
    "\n",
    "nvalues = [1, 3, 5, 7, 9, 11, 13, 15, 17, 19, 21, 23, 25]\n",
    "dist = ['manhattan', 'euclidean', 'chebyshev']\n",
    "    \n",
    "for filename in os.listdir(directory):\n",
    "    if filename.endswith(\".csv\"): \n",
    "        path = directory + '/' + filename\n",
    "        print('\\n', filename.split('.')[0])\n",
    "        data: pd.DataFrame = pd.read_csv(path, sep=';', header=None)\n",
    "        y: np.ndarray = data.pop(data.shape[1] - 1).values # Target Variable\n",
    "        X: np.ndarray = data.values # Values of each feature on each record\n",
    "        labels = pd.unique(y)\n",
    "        \n",
    "        trnX, tstX, trnY, tstY = train_test_split(X, y, train_size=0.7, stratify=y)\n",
    "        \n",
    "        values = {}\n",
    "        best = (0, '')\n",
    "        last_best = 0\n",
    "        for d in dist:\n",
    "            yvalues = []\n",
    "            for n in nvalues:\n",
    "                knn = KNeighborsClassifier(n_neighbors=n, metric=d)\n",
    "                knn.fit(trnX, trnY)\n",
    "                prdY = knn.predict(tstX)\n",
    "                yvalues.append(metrics.accuracy_score(tstY, prdY))\n",
    "                if yvalues[-1] > last_best:\n",
    "                    best = (n, d)\n",
    "                    last_best = yvalues[-1]\n",
    "            values[d] = yvalues\n",
    "\n",
    "        plt.figure()\n",
    "        ds.multiple_line_chart(nvalues, values, title='KNN variants', xlabel='n', ylabel='accuracy', percentage=True)\n",
    "        plt.show()\n",
    "        print('Best results with %d neighbors and %s'%(best[0], best[1]))\n",
    "        \n",
    "        clf = knn = KNeighborsClassifier(n_neighbors=best[0], metric=best[1])\n",
    "        clf.fit(trnX, trnY)\n",
    "        prd_trn = clf.predict(trnX)\n",
    "        prd_tst = clf.predict(tstX)\n",
    "        ds.plot_evaluation_results(pd.unique(y), trnY, prd_trn, tstY, prd_tst)\n",
    "        print(\"An acc of {:.2f}%\".format(metrics.accuracy_score(tstY, prd_tst)))\n",
    "        \n",
    "        overall_accs += [last_best]\n",
    "        # Dataset name\n",
    "        datasets += [filename.split('.')[0]]"
   ]
  },
  {
   "cell_type": "code",
   "execution_count": null,
   "metadata": {},
   "outputs": [],
   "source": [
    "accs = pd.Series(overall_accs)\n",
    "datasets = list(datasets)\n",
    "\n",
    "res = {datasets[i]: overall_accs[i] for i in range(len(datasets))}\n",
    "\n",
    "res = {k: v for k, v in sorted(res.items(), key=lambda item: item[1], reverse=True)}\n",
    "\n",
    "accs = pd.Series(list(res.values()))\n",
    "\n",
    "print(accs)\n",
    "\n",
    "datasets = list(res.keys())\n",
    "# Plot the figure.\n",
    "plt.figure(figsize=(12, 8))\n",
    "ax = accs.plot(kind='bar')\n",
    "ax.set_title('Max Accuracy by Dataset (between the tested models)')\n",
    "ax.set_xlabel('Dataset')\n",
    "ax.set_ylabel('Accuracy')\n",
    "ax.set_xticklabels(datasets)"
   ]
  }
 ],
 "metadata": {
  "kernelspec": {
   "display_name": "Python 3",
   "language": "python",
   "name": "python3"
  },
  "language_info": {
   "codemirror_mode": {
    "name": "ipython",
    "version": 3
   },
   "file_extension": ".py",
   "mimetype": "text/x-python",
   "name": "python",
   "nbconvert_exporter": "python",
   "pygments_lexer": "ipython3",
   "version": "3.8.3"
  }
 },
 "nbformat": 4,
 "nbformat_minor": 4
}
