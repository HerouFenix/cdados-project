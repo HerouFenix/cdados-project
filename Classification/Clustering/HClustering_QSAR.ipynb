{
 "cells": [
  {
   "cell_type": "markdown",
   "metadata": {},
   "source": [
    "# Hierarchical\n",
    "## QSAR Dataset"
   ]
  },
  {
   "cell_type": "code",
   "execution_count": 1,
   "metadata": {},
   "outputs": [],
   "source": [
    "import pandas as pd\n",
    "import matplotlib.pyplot as plt\n",
    "import ds_functions as ds\n",
    "from sklearn.cluster import AgglomerativeClustering\n",
    "from sklearn.metrics import silhouette_score\n",
    "from sklearn.metrics import davies_bouldin_score"
   ]
  },
  {
   "cell_type": "code",
   "execution_count": 2,
   "metadata": {},
   "outputs": [],
   "source": [
    "data: pd.DataFrame = pd.read_csv('../../datasets/qsar_oral_toxicity.csv', sep=';', header=None)    \n",
    "data.pop(1024) #Remove target variable\n",
    "\n",
    "N_CLUSTERS = [2, 3, 5, 7, 9, 11, 13, 15, 17, 19, 21, 23, 25, 27, 29]\n",
    "rows, cols = ds.choose_grid(len(N_CLUSTERS))"
   ]
  },
  {
   "cell_type": "code",
   "execution_count": null,
   "metadata": {},
   "outputs": [
    {
     "name": "stdout",
     "output_type": "stream",
     "text": [
      "On k=2\n",
      "On k=3\n",
      "On k=5\n"
     ]
    }
   ],
   "source": [
    "mse: list = []\n",
    "sc: list = []\n",
    "db: list = []\n",
    "\n",
    "_, axs = plt.subplots(rows, cols, figsize=(cols*5, rows*5), squeeze=False)\n",
    "i, j = 0, 0\n",
    "for n in range(len(N_CLUSTERS)):\n",
    "    k = N_CLUSTERS[n]\n",
    "    print(\"On k={}\".format(k))\n",
    "    estimator = AgglomerativeClustering(n_clusters=k)\n",
    "    estimator.fit(data)\n",
    "    labels = estimator.labels_\n",
    "    centers = ds.compute_centroids(data, labels)\n",
    "    mse.append(ds.compute_mse(data.values, labels, centers))\n",
    "    sc.append(silhouette_score(data, labels))\n",
    "    db.append(davies_bouldin_score(data, labels))\n",
    "    ds.plot_clusters(data, 1, 2, labels, centers, k,\n",
    "                     f'Hierarchical k={k}', ax=axs[i,j])\n",
    "    i, j = (i + 1, 0) if (n+1) % cols == 0 else (i, j + 1)\n",
    "plt.show()"
   ]
  },
  {
   "cell_type": "code",
   "execution_count": null,
   "metadata": {},
   "outputs": [],
   "source": [
    "fig = plt.figure(figsize=(9,3))\n",
    "ds.plot_line(N_CLUSTERS, mse, title='Hierarchical  MSE', xlabel='k', ylabel='MSE')\n",
    "plt.show()\n",
    "\n",
    "fig, ax = plt.subplots(1, 2, figsize=(9, 3), squeeze=False)\n",
    "ds.plot_line(N_CLUSTERS, sc, title='Hierarchical  SC', xlabel='k', ylabel='SC', ax=ax[0, 0])\n",
    "ds.plot_line(N_CLUSTERS, db, title='Hierarchical  DB', xlabel='k', ylabel='DB', ax=ax[0, 1])\n",
    "plt.show()"
   ]
  },
  {
   "cell_type": "code",
   "execution_count": null,
   "metadata": {},
   "outputs": [],
   "source": [
    "METRICS = ['euclidean', 'cityblock', 'chebyshev', 'cosine', 'jaccard', 'hamming']\n",
    "LINKS = ['complete', 'average']\n",
    "k = 3\n",
    "values_mse = {}\n",
    "values_sc = {}\n",
    "values_db = {}\n",
    "\n",
    "rows = len(METRICS)\n",
    "cols = len(LINKS)\n",
    "_, axs = plt.subplots(rows, cols, figsize=(cols*5, rows*5), squeeze=False)\n",
    "for i in range(len(METRICS)):\n",
    "    mse: list = []\n",
    "    sc: list = []\n",
    "    db: list = []\n",
    "    m = METRICS[i]\n",
    "    for j in range(len(LINKS)):\n",
    "        link = LINKS[j]\n",
    "        estimator = AgglomerativeClustering(n_clusters=k, linkage=link, affinity=m )\n",
    "        estimator.fit(data)\n",
    "        labels = estimator.labels_\n",
    "        centers = ds.compute_centroids(data, labels)\n",
    "        mse.append(ds.compute_mse(data.values, labels, centers))\n",
    "        sc.append(silhouette_score(data, labels))\n",
    "        db.append(davies_bouldin_score(data, labels))\n",
    "        ds.plot_clusters(data, 1, 2, labels, centers, k,\n",
    "                         f'Hierarchical k={k} metric={m} link={link}', ax=axs[i,j])\n",
    "    values_mse[m] = mse\n",
    "    values_sc[m] = sc\n",
    "    values_db[m] = db\n",
    "plt.show()"
   ]
  },
  {
   "cell_type": "code",
   "execution_count": null,
   "metadata": {},
   "outputs": [],
   "source": [
    "#_, ax = plt.subplots(2, 2, figsize=(10, 5), squeeze=False)\n",
    "#ds.multiple_bar_chart(LINKS, values_mse, title=f'Hierarchical MSE', xlabel='metric', ylabel='MSE', ax=ax[0, 0])\n",
    "#ds.multiple_bar_chart(LINKS, values_sc, title=f'Hierarchical SC', xlabel='metric', ylabel='SC', ax=ax[0, 1], percentage=True)\n",
    "#ds.multiple_bar_chart(LINKS, values_db, title=f'Hierarchical DB', xlabel='metric', ylabel='DB', ax=ax[1, 0], percentage=True)\n",
    "#plt.show()\n",
    "\n",
    "fig = plt.figure(figsize=(6,3))\n",
    "ds.multiple_bar_chart(LINKS, values_mse, title=f'Hierarchical MSE', xlabel='metric', ylabel='MSE')\n",
    "plt.show()\n",
    "\n",
    "fig = plt.figure(figsize=(6,3))\n",
    "ds.multiple_bar_chart(LINKS, values_sc, title=f'Hierarchical SC', xlabel='metric', ylabel='SC')\n",
    "plt.show()\n",
    "\n",
    "fig = plt.figure(figsize=(6,3))\n",
    "ds.multiple_bar_chart(LINKS, values_db, title=f'Hierarchical DB', xlabel='metric', ylabel='DB')\n",
    "plt.show()"
   ]
  },
  {
   "cell_type": "markdown",
   "metadata": {},
   "source": [
    "## QSAR Dataset - Chi Feature Selection + Balancing"
   ]
  },
  {
   "cell_type": "code",
   "execution_count": null,
   "metadata": {},
   "outputs": [],
   "source": [
    "data: pd.DataFrame = pd.read_csv('../../datasets/TO_TEST/ORAL/ORAL_S_FChi_B.csv', sep=';', header=None)    \n",
    "data.pop(1024) #Remove target variable\n",
    "\n",
    "N_CLUSTERS = [2, 3, 5, 7, 9, 11, 13, 15, 17, 19, 21, 23, 25, 27, 29]\n",
    "rows, cols = ds.choose_grid(len(N_CLUSTERS))"
   ]
  },
  {
   "cell_type": "code",
   "execution_count": null,
   "metadata": {},
   "outputs": [],
   "source": [
    "mse: list = []\n",
    "sc: list = []\n",
    "db: list = []\n",
    "\n",
    "_, axs = plt.subplots(rows, cols, figsize=(cols*5, rows*5), squeeze=False)\n",
    "i, j = 0, 0\n",
    "for n in range(len(N_CLUSTERS)):\n",
    "    k = N_CLUSTERS[n]\n",
    "    print(\"On k={}\".format(k))\n",
    "    estimator = AgglomerativeClustering(n_clusters=k)\n",
    "    estimator.fit(data)\n",
    "    labels = estimator.labels_\n",
    "    centers = ds.compute_centroids(data, labels)\n",
    "    mse.append(ds.compute_mse(data.values, labels, centers))\n",
    "    sc.append(silhouette_score(data, labels))\n",
    "    db.append(davies_bouldin_score(data, labels))\n",
    "    ds.plot_clusters(data, 1, 2, labels, centers, k,\n",
    "                     f'Hierarchical k={k}', ax=axs[i,j])\n",
    "    i, j = (i + 1, 0) if (n+1) % cols == 0 else (i, j + 1)\n",
    "plt.show()"
   ]
  },
  {
   "cell_type": "code",
   "execution_count": null,
   "metadata": {},
   "outputs": [],
   "source": [
    "fig = plt.figure(figsize=(9,3))\n",
    "ds.plot_line(N_CLUSTERS, mse, title='Hierarchical  MSE', xlabel='k', ylabel='MSE')\n",
    "plt.show()\n",
    "\n",
    "fig, ax = plt.subplots(1, 2, figsize=(9, 3), squeeze=False)\n",
    "ds.plot_line(N_CLUSTERS, sc, title='Hierarchical  SC', xlabel='k', ylabel='SC', ax=ax[0, 0])\n",
    "ds.plot_line(N_CLUSTERS, db, title='Hierarchical  DB', xlabel='k', ylabel='DB', ax=ax[0, 1])\n",
    "plt.show()"
   ]
  },
  {
   "cell_type": "code",
   "execution_count": null,
   "metadata": {},
   "outputs": [],
   "source": [
    "METRICS = ['euclidean', 'cityblock', 'chebyshev', 'cosine', 'jaccard', 'hamming']\n",
    "LINKS = ['complete', 'average']\n",
    "k = 3\n",
    "values_mse = {}\n",
    "values_sc = {}\n",
    "values_db = {}\n",
    "\n",
    "rows = len(METRICS)\n",
    "cols = len(LINKS)\n",
    "_, axs = plt.subplots(rows, cols, figsize=(cols*5, rows*5), squeeze=False)\n",
    "for i in range(len(METRICS)):\n",
    "    mse: list = []\n",
    "    sc: list = []\n",
    "    db: list = []\n",
    "    m = METRICS[i]\n",
    "    for j in range(len(LINKS)):\n",
    "        link = LINKS[j]\n",
    "        estimator = AgglomerativeClustering(n_clusters=k, linkage=link, affinity=m )\n",
    "        estimator.fit(data)\n",
    "        labels = estimator.labels_\n",
    "        centers = ds.compute_centroids(data, labels)\n",
    "        mse.append(ds.compute_mse(data.values, labels, centers))\n",
    "        sc.append(silhouette_score(data, labels))\n",
    "        db.append(davies_bouldin_score(data, labels))\n",
    "        ds.plot_clusters(data, 1, 2, labels, centers, k,\n",
    "                         f'Hierarchical k={k} metric={m} link={link}', ax=axs[i,j])\n",
    "    values_mse[m] = mse\n",
    "    values_sc[m] = sc\n",
    "    values_db[m] = db\n",
    "plt.show()"
   ]
  },
  {
   "cell_type": "code",
   "execution_count": null,
   "metadata": {},
   "outputs": [],
   "source": [
    "#_, ax = plt.subplots(2, 2, figsize=(10, 5), squeeze=False)\n",
    "#ds.multiple_bar_chart(LINKS, values_mse, title=f'Hierarchical MSE', xlabel='metric', ylabel='MSE', ax=ax[0, 0])\n",
    "#ds.multiple_bar_chart(LINKS, values_sc, title=f'Hierarchical SC', xlabel='metric', ylabel='SC', ax=ax[0, 1], percentage=True)\n",
    "#ds.multiple_bar_chart(LINKS, values_db, title=f'Hierarchical DB', xlabel='metric', ylabel='DB', ax=ax[1, 0], percentage=True)\n",
    "#plt.show()\n",
    "\n",
    "fig = plt.figure(figsize=(6,3))\n",
    "ds.multiple_bar_chart(LINKS, values_mse, title=f'Hierarchical MSE', xlabel='metric', ylabel='MSE')\n",
    "plt.show()\n",
    "\n",
    "fig = plt.figure(figsize=(6,3))\n",
    "ds.multiple_bar_chart(LINKS, values_sc, title=f'Hierarchical SC', xlabel='metric', ylabel='SC')\n",
    "plt.show()\n",
    "\n",
    "fig = plt.figure(figsize=(6,3))\n",
    "ds.multiple_bar_chart(LINKS, values_db, title=f'Hierarchical DB', xlabel='metric', ylabel='DB')\n",
    "plt.show()"
   ]
  },
  {
   "cell_type": "markdown",
   "metadata": {},
   "source": [
    "## QSAR Dataset - Reduced Chi Balanced"
   ]
  },
  {
   "cell_type": "code",
   "execution_count": null,
   "metadata": {},
   "outputs": [],
   "source": [
    "def bin_to_integer(bitlist):\n",
    "    \"\"\"Returns the integer conversion from a number represented in a binary string\"\"\"\n",
    "    out = 0\n",
    "    for bit in bitlist:\n",
    "        out = (out << 1) | int(bit)\n",
    "\n",
    "    return out"
   ]
  },
  {
   "cell_type": "code",
   "execution_count": null,
   "metadata": {},
   "outputs": [],
   "source": [
    "data: pd.DataFrame = pd.read_csv('../../datasets/TO_TEST/ORAL/ORAL_S_FChi_B.csv', sep=';', header=None)    \n",
    "data.pop(len(data.columns)-1).values #Remove target variable\n",
    "\n",
    "for index, row in data.iterrows():\n",
    "    for col in data.columns:\n",
    "        data.at[index,col] = bin_to_integer(row[col])\n",
    "        \n",
    "N_CLUSTERS = [2, 3, 5, 7, 9, 11, 13, 15, 17, 19, 21, 23, 25, 27, 29]\n",
    "rows, cols = ds.choose_grid(len(N_CLUSTERS))"
   ]
  },
  {
   "cell_type": "code",
   "execution_count": null,
   "metadata": {},
   "outputs": [],
   "source": [
    "mse: list = []\n",
    "sc: list = []\n",
    "db: list = []\n",
    "\n",
    "_, axs = plt.subplots(rows, cols, figsize=(cols*5, rows*5), squeeze=False)\n",
    "i, j = 0, 0\n",
    "for n in range(len(N_CLUSTERS)):\n",
    "    k = N_CLUSTERS[n]\n",
    "    print(\"On k={}\".format(k))\n",
    "    estimator = AgglomerativeClustering(n_clusters=k)\n",
    "    estimator.fit(data)\n",
    "    labels = estimator.labels_\n",
    "    centers = ds.compute_centroids(data, labels)\n",
    "    mse.append(ds.compute_mse(data.values, labels, centers))\n",
    "    sc.append(silhouette_score(data, labels))\n",
    "    db.append(davies_bouldin_score(data, labels))\n",
    "    ds.plot_clusters(data, 1, 2, labels, centers, k,\n",
    "                     f'Hierarchical k={k}', ax=axs[i,j])\n",
    "    i, j = (i + 1, 0) if (n+1) % cols == 0 else (i, j + 1)\n",
    "plt.show()"
   ]
  },
  {
   "cell_type": "code",
   "execution_count": null,
   "metadata": {},
   "outputs": [],
   "source": [
    "fig = plt.figure(figsize=(9,3))\n",
    "ds.plot_line(N_CLUSTERS, mse, title='Hierarchical  MSE', xlabel='k', ylabel='MSE')\n",
    "plt.show()\n",
    "\n",
    "fig, ax = plt.subplots(1, 2, figsize=(9, 3), squeeze=False)\n",
    "ds.plot_line(N_CLUSTERS, sc, title='Hierarchical  SC', xlabel='k', ylabel='SC', ax=ax[0, 0])\n",
    "ds.plot_line(N_CLUSTERS, db, title='Hierarchical  DB', xlabel='k', ylabel='DB', ax=ax[0, 1])\n",
    "plt.show()"
   ]
  },
  {
   "cell_type": "code",
   "execution_count": null,
   "metadata": {},
   "outputs": [],
   "source": [
    "METRICS = ['euclidean', 'cityblock', 'chebyshev', 'cosine', 'jaccard', 'hamming']\n",
    "LINKS = ['complete', 'average']\n",
    "k = 3\n",
    "values_mse = {}\n",
    "values_sc = {}\n",
    "values_db = {}\n",
    "\n",
    "rows = len(METRICS)\n",
    "cols = len(LINKS)\n",
    "_, axs = plt.subplots(rows, cols, figsize=(cols*5, rows*5), squeeze=False)\n",
    "for i in range(len(METRICS)):\n",
    "    mse: list = []\n",
    "    sc: list = []\n",
    "    db: list = []\n",
    "    m = METRICS[i]\n",
    "    for j in range(len(LINKS)):\n",
    "        link = LINKS[j]\n",
    "        estimator = AgglomerativeClustering(n_clusters=k, linkage=link, affinity=m )\n",
    "        estimator.fit(data)\n",
    "        labels = estimator.labels_\n",
    "        centers = ds.compute_centroids(data, labels)\n",
    "        mse.append(ds.compute_mse(data.values, labels, centers))\n",
    "        sc.append(silhouette_score(data, labels))\n",
    "        db.append(davies_bouldin_score(data, labels))\n",
    "        ds.plot_clusters(data, 1, 2, labels, centers, k,\n",
    "                         f'Hierarchical k={k} metric={m} link={link}', ax=axs[i,j])\n",
    "    values_mse[m] = mse\n",
    "    values_sc[m] = sc\n",
    "    values_db[m] = db\n",
    "plt.show()"
   ]
  },
  {
   "cell_type": "code",
   "execution_count": null,
   "metadata": {},
   "outputs": [],
   "source": [
    "#_, ax = plt.subplots(2, 2, figsize=(10, 5), squeeze=False)\n",
    "#ds.multiple_bar_chart(LINKS, values_mse, title=f'Hierarchical MSE', xlabel='metric', ylabel='MSE', ax=ax[0, 0])\n",
    "#ds.multiple_bar_chart(LINKS, values_sc, title=f'Hierarchical SC', xlabel='metric', ylabel='SC', ax=ax[0, 1], percentage=True)\n",
    "#ds.multiple_bar_chart(LINKS, values_db, title=f'Hierarchical DB', xlabel='metric', ylabel='DB', ax=ax[1, 0], percentage=True)\n",
    "#plt.show()\n",
    "\n",
    "fig = plt.figure(figsize=(6,3))\n",
    "ds.multiple_bar_chart(LINKS, values_mse, title=f'Hierarchical MSE', xlabel='metric', ylabel='MSE')\n",
    "plt.show()\n",
    "\n",
    "fig = plt.figure(figsize=(6,3))\n",
    "ds.multiple_bar_chart(LINKS, values_sc, title=f'Hierarchical SC', xlabel='metric', ylabel='SC')\n",
    "plt.show()\n",
    "\n",
    "fig = plt.figure(figsize=(6,3))\n",
    "ds.multiple_bar_chart(LINKS, values_db, title=f'Hierarchical DB', xlabel='metric', ylabel='DB')\n",
    "plt.show()"
   ]
  },
  {
   "cell_type": "code",
   "execution_count": null,
   "metadata": {},
   "outputs": [],
   "source": []
  },
  {
   "cell_type": "code",
   "execution_count": null,
   "metadata": {},
   "outputs": [],
   "source": []
  }
 ],
 "metadata": {
  "kernelspec": {
   "display_name": "Python 3",
   "language": "python",
   "name": "python3"
  },
  "language_info": {
   "codemirror_mode": {
    "name": "ipython",
    "version": 3
   },
   "file_extension": ".py",
   "mimetype": "text/x-python",
   "name": "python",
   "nbconvert_exporter": "python",
   "pygments_lexer": "ipython3",
   "version": "3.8.3"
  }
 },
 "nbformat": 4,
 "nbformat_minor": 4
}
